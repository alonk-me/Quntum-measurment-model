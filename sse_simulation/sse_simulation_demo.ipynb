{
 "cells": [
  {
   "cell_type": "markdown",
   "metadata": {},
   "source": [
    "# Simulation of stochastic Schrödinger trajectories\n",
    "\n",
    "In this notebook we demonstrate how to use the `SSESimulator` module to\n",
    "generate ensembles of stochastic quantum trajectories for a continuously\n",
    "monitored qubit.  The simulator implements the Stratonovich quantum\n",
    "trajectory equations described in Dressel *et al.* (2017) for a qubit\n",
    "subjected to a drive about the $y$‑axis and homodyne detection of the $z$\n",
    "Pauli operator【32376578886034†L170-L196】.  Each trajectory yields an estimate of the\n",
    "arrow‑of‑time log‑likelihood ratio\n",
    ".  We compare the resulting\n",
    "distributions to the analytic Gaussian prediction given in Eq. (5) of\n",
    "Dressel *et al.*【32376578886034†L299-L312】.\n",
    "\n",
    "Below we simulate an ensemble of trajectories for four different\n",
    "durations $T/\tau in 0.02,0.2,1.18,2.0$, as in Fig. 2 of the paper, and\n",
    "visualise the histograms of $ln R$ together with the theoretical mean\n",
    "$3T/(2\tau)$ and variance $2T/\tau$.  Because the original figure used $2\times10^6$\n",
    "trajectories, here we use a smaller ensemble to keep the computation\n",
    "lightweight but still observe convergence towards the expected Gaussian.\n",
    "You can increase `n_traj` to improve the statistics."
   ]
  },
  {
   "cell_type": "code",
   "execution_count": null,
   "metadata": {},
   "outputs": [],
   "source": [
    "import numpy as np\n",
    "import matplotlib.pyplot as plt\n",
    "from sse_simulation import SSESimulator, compute_histogram\n",
    "\n",
    "# Define simulation parameters\n",
    "tau = 1.0\n",
    "Omega = 4 * np.pi  # chosen so that 2π/Ω = 0.5 τ【32376578886034†L299-L312】\n",
    "dt = 1e-3\n",
    "\n",
    "# Create the simulator\n",
    "sim = SSESimulator(tau=tau, Omega=Omega, dt=dt)\n",
    "\n",
    "# Define durations (in units of τ) matching Fig. 2\n",
    "durations = [0.02, 0.2, 1.18, 2.0]\n",
    "\n",
    "# Number of trajectories per duration\n",
    "n_traj = 5000  # increase for smoother histograms\n",
    "\n",
    "# Container for results\n",
    "results = {}\n",
    "for T in durations:\n",
    "    print(f\nSimulating T= {T} τ with {n_traj} trajectories...\n)",
    "    lnR_values = sim.simulate_ensemble(n_traj, T)\n",
    "    results[T] = lnR_values\n"
   ]
  },
  {
   "cell_type": "code",
   "execution_count": null,
   "metadata": {},
   "outputs": [],
   "source": [
    "# Plot histograms and compare to Gaussian predictions\n",
    "fig, axes = plt.subplots(2, 2, figsize=(10, 8), sharex=False, sharey=False)\n",
    "\n",
    "for ax, T in zip(axes.ravel(), durations):\n",
    "    data = results[T]\n",
    "    # compute histogram\n",
    "    bins = 60\n",
    "    bin_centers, counts = compute_histogram(data, bins=bins, density=True)\n",
    "    ax.bar(bin_centers, counts, width=bin_centers[1] - bin_centers[0], color='C0', alpha=0.6, label='Simulation')\n",
    "    \n",
    "    # analytic Gaussian: mean and variance from Dressel et al. Eq. (5)【32376578886034†L299-L312】\n",
    "    mu = 3 * T / (2 * tau)\n",
    "    sigma2 = 2 * T / tau\n",
    "    sigma = np.sqrt(sigma2)\n",
    "    xs = np.linspace(min(data), max(data), 200)\n",
    "    gaussian = (1 / (np.sqrt(2 * np.pi * sigma2))) * np.exp(-0.5 * ((xs - mu) / sigma)**2)\n",
    "    ax.plot(xs, gaussian, 'r--', lw=2, label='Gaussian prediction')\n",
    "\n",
    "    # vertical line at zero to indicate sign of ln R\n",
    "    ax.axvline(0.0, color='k', linestyle=':', linewidth=1)\n",
    "    ax.axvline(mu, color='r', linestyle='-', linewidth=1, label='Mean')\n",
    "\n",
    "    ax.set_title(f'T = {T} τ')\n",
    "    ax.set_xlabel('ln R')\n",
    "    ax.set_ylabel('Probability density')\n",
    "    ax.legend(loc='upper right', fontsize='small')\n",
    "\n",
    "fig.suptitle('Histograms of ln R for different durations')\n",
    "plt.tight_layout()\n",
    "plt.show()"
   ]
  },
  {
   "cell_type": "code",
   "execution_count": null,
   "metadata": {},
   "outputs": [],
   "source": [
    "# Compute and display mean and variance of ln R for each duration\n",
    "for T in durations:\n",
    "    data = results[T]\n",
    "    mean_lnR = np.mean(data)\n",
    "    var_lnR = np.var(data)\n",
    "    print(f'Duration T={T} τ: mean ln R = {mean_lnR:.3f}, variance = {var_lnR:.3f}')\n"
   ]
  }
 ],
 "metadata": {
  "kernelspec": {
   "display_name": "Python 3",
   "language": "python",
   "name": "python3"
  },
  "language_info": {
   "name": "python",
   "version": "3.11"
  }
 },
 "nbformat": 4,
 "nbformat_minor": 5
}