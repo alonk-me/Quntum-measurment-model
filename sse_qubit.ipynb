{
 "cells": [
  {
   "cell_type": "markdown",
   "id": "bd96e3d1",
   "metadata": {},
   "source": [
    "# 1‑Qubit SSE: Continuous σ_z Measurement\n",
    "This notebook reproduces single‑qubit trajectories using a Stochastic Schrödinger Equation (SSE) with symmetric midpoint evaluation for the observable‐weighted increment of an additive functional $Q$. You can tweak `gamma`, `T`, `N`, and the initial state."
   ]
  },
  {
   "cell_type": "code",
   "execution_count": null,
   "id": "d68d8ec3",
   "metadata": {},
   "outputs": [],
   "source": [
    "import numpy as np\n",
    "import matplotlib.pyplot as plt\n",
    "from pathlib import Path\n",
    "from ssepkg import run_trajectory, run_ensemble, map_epsilon_to_gamma\n"
   ]
  },
  {
   "cell_type": "code",
   "execution_count": null,
   "id": "bdbdbe11",
   "metadata": {},
   "outputs": [],
   "source": [
    "# Parameters\n",
    "T = 1.0\n",
    "N = 2000\n",
    "gamma = 2.0  # measurement rate\n",
    "num_traj = 200\n",
    "seed = 12345\n"
   ]
  },
  {
   "cell_type": "code",
   "execution_count": null,
   "id": "8741ad97",
   "metadata": {},
   "outputs": [],
   "source": [
    "# Single trajectory demo\n",
    "out = run_trajectory(T=T, N=N, gamma=gamma, omega=0.0, midpoint_Q=True)\n",
    "plt.figure()\n",
    "plt.plot(out['t'], out['m'])\n",
    "plt.xlabel('t')\n",
    "plt.ylabel('<σ_z>')\n",
    "plt.title('Single‑trajectory magnetization')\n",
    "plt.show()"
   ]
  },
  {
   "cell_type": "code",
   "execution_count": null,
   "id": "f4127dc5",
   "metadata": {},
   "outputs": [],
   "source": [
    "# Ensemble for Q distribution\n",
    "Qs, ms = run_ensemble(num_traj=num_traj, T=T, N=N, gamma=gamma, seed=seed)\n",
    "plt.figure()\n",
    "plt.hist(Qs, bins=40, density=True)\n",
    "plt.xlabel('Q')\n",
    "plt.ylabel('Density')\n",
    "plt.title('Distribution of Q (midpoint symmetric)')\n",
    "plt.show()"
   ]
  },
  {
   "cell_type": "code",
   "execution_count": null,
   "id": "8f35a24f",
   "metadata": {},
   "outputs": [],
   "source": [
    "# Save figures\n",
    "resdir = Path('results'); resdir.mkdir(exist_ok=True)\n",
    "# sample trajectories (plot 10)\n",
    "plt.figure()\n",
    "for k in range(min(10, ms.shape[0])):\n",
    "    plt.plot(np.linspace(0, T, ms.shape[1]), ms[k], alpha=0.7)\n",
    "plt.xlabel('t'); plt.ylabel('<σ_z>'); plt.title('Sample trajectories')\n",
    "plt.savefig(resdir/'sample_trajectories.png', dpi=150, bbox_inches='tight')\n",
    "plt.close()\n",
    "# Q histogram\n",
    "plt.figure()\n",
    "plt.hist(Qs, bins=40, density=True)\n",
    "plt.xlabel('Q'); plt.ylabel('Density'); plt.title('Distribution of Q')\n",
    "plt.savefig(resdir/'q_histogram.png', dpi=150, bbox_inches='tight')\n",
    "plt.close()\n",
    "print('Saved results to', resdir)"
   ]
  }
 ],
 "metadata": {},
 "nbformat": 4,
 "nbformat_minor": 5
}
